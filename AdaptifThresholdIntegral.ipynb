{
 "cells": [
  {
   "cell_type": "code",
   "execution_count": 3,
   "metadata": {},
   "outputs": [],
   "source": [
    "import cv2\n",
    "import math\n",
    "import numpy as np\n",
    "import time"
   ]
  },
  {
   "cell_type": "code",
   "execution_count": 21,
   "metadata": {},
   "outputs": [],
   "source": [
    "image = cv2.imread('citra16.jpg')\n"
   ]
  },
  {
   "cell_type": "code",
   "execution_count": 5,
   "metadata": {},
   "outputs": [],
   "source": [
    "def gray_convert(image):\n",
    "    rgb_weights = [0.2989, 0.5870, 0.1140]\n",
    "    grayscale_image = np.dot(image[...,:3], rgb_weights)\n",
    "    gray_img = grayscale_image.astype(np.uint8)\n",
    "    return gray_img"
   ]
  },
  {
   "cell_type": "code",
   "execution_count": 6,
   "metadata": {},
   "outputs": [],
   "source": [
    "img = gray_convert(image)"
   ]
  },
  {
   "cell_type": "code",
   "execution_count": 7,
   "metadata": {},
   "outputs": [
    {
     "name": "stdout",
     "output_type": "stream",
     "text": [
      "[[121 120 119 ... 124 117 108]\n",
      " [124 122 120 ... 126 119 111]\n",
      " [124 122 120 ... 128 122 115]\n",
      " ...\n",
      " [203 196 184 ... 183 164 120]\n",
      " [199 194 189 ... 174 176 165]\n",
      " [192 191 191 ... 169 172 172]]\n"
     ]
    }
   ],
   "source": [
    "array_gray = np.array(img)\n",
    "print(array_gray)"
   ]
  },
  {
   "cell_type": "code",
   "execution_count": 8,
   "metadata": {},
   "outputs": [],
   "source": [
    "cv2.imwrite('grayscale.png', img)\n",
    "# cv2.imshow('grayscale', img)\n",
    "cv2.waitKey(0)\n",
    "cv2.destroyAllWindows()"
   ]
  },
  {
   "cell_type": "code",
   "execution_count": 9,
   "metadata": {},
   "outputs": [],
   "source": [
    "def summed_area_table(img):\n",
    "\n",
    "    table = np.zeros_like(img).astype(int)\n",
    "\n",
    "    for baris in range(img.shape[0]):\n",
    "        for kolom in range(img.shape[1]):\n",
    "\n",
    "            if (baris > 0) and (kolom > 0):\n",
    "                table[baris, kolom] = (img[baris, kolom] +\n",
    "                                   table[baris, kolom - 1] +\n",
    "                                   table[baris - 1, kolom] -\n",
    "                                   table[baris - 1, kolom - 1])\n",
    "            elif baris > 0:   \n",
    "                table[baris, kolom] = img[baris, kolom] + table[baris - 1, kolom]\n",
    "            elif kolom > 0:\n",
    "                table[baris, kolom] = img[baris, kolom] + table[baris, kolom - 1]\n",
    "            else:\n",
    "                table[baris, kolom] = img[baris, kolom]\n",
    "\n",
    "    return table"
   ]
  },
  {
   "cell_type": "code",
   "execution_count": 10,
   "metadata": {},
   "outputs": [
    {
     "data": {
      "text/plain": [
       "array([[     121,      241,      360, ...,    39100,    39217,    39325],\n",
       "       [     245,      487,      726, ...,    78313,    78549,    78768],\n",
       "       [     369,      733,     1092, ...,   117507,   117865,   118199],\n",
       "       ...,\n",
       "       [   48476,    96860,   145295, ..., 15211019, 15258821, 15306280],\n",
       "       [   48675,    97253,   145877, ..., 15258893, 15306871, 15354495],\n",
       "       [   48867,    97636,   146451, ..., 15306983, 15355133, 15402929]])"
      ]
     },
     "execution_count": 10,
     "metadata": {},
     "output_type": "execute_result"
    }
   ],
   "source": [
    "summed_area_table(img)"
   ]
  },
  {
   "cell_type": "code",
   "execution_count": 14,
   "metadata": {},
   "outputs": [],
   "source": [
    "def thresholdIntegral(inputMat,s,T = 0.15):\n",
    "    outputMat=np.zeros(inputMat.shape) #output adaptif threshold \n",
    "    baris = inputMat.shape[0]\n",
    "    kolom = inputMat.shape[1]\n",
    "    S = int(max(baris, kolom) / 8) #kernel dari total piksel citra\n",
    "\n",
    "    s2 = int(S / 2)\n",
    "\n",
    "    # penentuan posisi kernel\n",
    "    for i in range(baris):\n",
    "        y1 = i - s2\n",
    "        y2 = i + s2\n",
    "\n",
    "        if (y1 < 0) :\n",
    "            y1 = 0\n",
    "        if (y2 >= baris):\n",
    "            y2 = baris - 1\n",
    "\n",
    "        for j in range(kolom):\n",
    "            x1 = j - s2\n",
    "            x2 = j + s2\n",
    "\n",
    "            if (x1 < 0) :\n",
    "                x1 = 0\n",
    "            if (x2 >= kolom):\n",
    "                x2 = kolom - 1\n",
    "            count = (x2 - x1)*(y2 - y1)\n",
    "            \n",
    "            # rumus rata-rata integral\n",
    "            sum=s[y2][x2]-s[y2][x1]-s[y1][x2]+s[y1][x1]\n",
    "            \n",
    "            # pengujian nilai threshold\n",
    "            if ((int)(inputMat[i][j] * count) <= (int)(sum*(1.0 - T))):\n",
    "                outputMat[i][j] = 0\n",
    "            else:\n",
    "                outputMat[i][j] = 255\n",
    "    return outputMat"
   ]
  },
  {
   "cell_type": "code",
   "execution_count": 19,
   "metadata": {},
   "outputs": [
    {
     "name": "stdout",
     "output_type": "stream",
     "text": [
      "integral cost 0.3374178409576416\n",
      "totally cost 1.0583269596099854\n",
      "[[255. 255. 255. ... 255. 255.   0.]\n",
      " [255. 255. 255. ... 255. 255. 255.]\n",
      " [255. 255. 255. ... 255. 255. 255.]\n",
      " ...\n",
      " [255. 255. 255. ... 255. 255. 255.]\n",
      " [255. 255. 255. ... 255. 255. 255.]\n",
      " [255. 255. 255. ... 255. 255. 255.]]\n"
     ]
    }
   ],
   "source": [
    "if __name__ == '__main__':\n",
    "    ratio=1\n",
    "    image = cv2.imdecode(np.fromfile('citra16.jpg', dtype=np.uint8), 0)\n",
    "    img = cv2.resize(image, (int(image.shape[1] / ratio), int(image.shape[0] / ratio)), cv2.INTER_NEAREST)\n",
    "\n",
    "    time_start = time.time()\n",
    "    roii = summed_area_table(img)\n",
    "    time_end = time.time()\n",
    "    print('integral cost', time_end - time_start)\n",
    "\n",
    "    # menampilkan threshold\n",
    "#     for j in range(1):\n",
    "    thresh = thresholdIntegral(img, roii)\n",
    "    time_end = time.time()\n",
    "    print('totally cost', time_end - time_start)\n",
    "    print(thresh)\n",
    "#     cv2.namedWindow('integral threshold',0)\n",
    "#     cv2.imshow('integral threshold',thresh)\n",
    "    cv2.imwrite('outCitra16.png', np.uint8(thresh))\n",
    "\n",
    "#     cv2.waitKey(0)\n",
    "#     cv2.destroyAllWindows()"
   ]
  },
  {
   "cell_type": "code",
   "execution_count": null,
   "metadata": {},
   "outputs": [],
   "source": []
  },
  {
   "cell_type": "code",
   "execution_count": null,
   "metadata": {},
   "outputs": [],
   "source": []
  },
  {
   "cell_type": "code",
   "execution_count": null,
   "metadata": {},
   "outputs": [],
   "source": []
  },
  {
   "cell_type": "code",
   "execution_count": null,
   "metadata": {},
   "outputs": [],
   "source": []
  }
 ],
 "metadata": {
  "kernelspec": {
   "display_name": "Python 3",
   "language": "python",
   "name": "python3"
  },
  "language_info": {
   "codemirror_mode": {
    "name": "ipython",
    "version": 3
   },
   "file_extension": ".py",
   "mimetype": "text/x-python",
   "name": "python",
   "nbconvert_exporter": "python",
   "pygments_lexer": "ipython3",
   "version": "3.7.4"
  }
 },
 "nbformat": 4,
 "nbformat_minor": 2
}
